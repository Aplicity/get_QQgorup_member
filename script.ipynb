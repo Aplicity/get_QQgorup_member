{
 "cells": [
  {
   "cell_type": "code",
   "execution_count": 6,
   "metadata": {},
   "outputs": [],
   "source": [
    "from selenium import webdriver\n",
    "from bs4 import BeautifulSoup\n",
    "import time\n",
    "import datetime\n",
    "import os\n",
    "import pandas as pd"
   ]
  },
  {
   "cell_type": "code",
   "execution_count": 7,
   "metadata": {},
   "outputs": [],
   "source": [
    "def save_data(driver):\n",
    "    res = driver.page_source        # 获取源码\n",
    "    driver.quit()                   # 关闭浏览器\n",
    "    soup = BeautifulSoup(res,\"lxml\")\n",
    "    html = soup.select(\"td\")\n",
    "    \n",
    "    ## 先用第2、3 个成员判断一下有无 <群标签>字段\n",
    "    age_2 = html[ 2 * 10 + 6].text.replace(\"\\t\", \"\").replace(\"\\n\", \"\")             ## Q龄\n",
    "    age_3 = html[ 2 * 10 + 6].text.replace(\"\\t\", \"\").replace(\"\\n\", \"\")             ## Q龄\n",
    "    \n",
    "    data = []\n",
    "    if \"年\" in age_2 and \"年\" in age_3:  ## 说明无<群标签>\n",
    "        for i in range(5000):     ## 每个群最大5000人\n",
    "            try:\n",
    "                item = []\n",
    "                for j in range(2,9):\n",
    "                    lineArr = html[ i*10 + j].text.replace(\"\\t\", \"\").replace(\"\\n\", \"\")\n",
    "                    item.append(lineArr)  ## 添加每个成员的信息，\n",
    "                data.append(item)\n",
    "            except:\n",
    "                break\n",
    "                \n",
    "        cols = ['群成员', '群名片', 'QQ号', '性别', 'Q龄', '入群时间',  '最后发言时间']\n",
    "        df = pd.DataFrame(data = data,  columns = cols)\n",
    "                \n",
    "    if \"年\" not in age_2 or \"年\" not in age_3:  ## 说明有<群标签>\n",
    "        for i in range(5000):     ## 每个群最大5000人\n",
    "            try:\n",
    "                item = []\n",
    "                for j in range(2,10):\n",
    "                    lineArr = html[ i*11 + j].text.replace(\"\\t\", \"\").replace(\"\\n\", \"\")\n",
    "                    item.append(lineArr)  ## 添加每个成员的信息，\n",
    "                data.append(item)\n",
    "            except:\n",
    "                break\n",
    "            \n",
    "        cols = ['群成员', '群名片', 'QQ号', '性别', 'Q龄', '入群时间', '等级积分', '最后发言时间']\n",
    "        df = pd.DataFrame(data = data,  columns = cols)\n",
    "     \n",
    "    ## 文件命令方式： 路径path： ./dataset_yyyymmdd/ \n",
    "    ##             文件名name：群号 + .csv\n",
    "    df.to_csv(\"./dataset_\" + now[:8] + \"/\"  +  group_id + '.csv', \n",
    "         encoding = 'utf-8', \n",
    "         index = None)\n",
    "    \n",
    "    return df\n",
    "\n",
    "\n",
    "def scroll_foot(driver):\n",
    "    '''\n",
    "    下拉界面\n",
    "    '''\n",
    "    js=\"var q=document.documentElement.scrollTop=100000\"\n",
    "    return driver.execute_script(js)"
   ]
  },
  {
   "cell_type": "code",
   "execution_count": 13,
   "metadata": {},
   "outputs": [],
   "source": [
    "now = datetime.datetime.today().strftime(\"%Y%m%d\")\n",
    "try:  ## 创建一个文件夹，用于存放数据集。文件夹命令方式： dataset + yyyymmdd（本日日期）\n",
    "    file = os.mkdir(\"dataset_\" + now)\n",
    "except: ## 如果文件夹已存在，则放弃创建\n",
    "    pass\n",
    "\n",
    "\n",
    "group_id = '143780057'   ## 需要爬取的群号\n",
    "url = 'https://qun.qq.com/member.html#gid={}'.format(group_id)\n",
    "\n",
    "driver = webdriver.Chrome(executable_path = '/Users/apricity/Desktop/chromedriver')\n",
    "# driver = webdriver.Firefox() ## 如果是火狐浏览器可以用这行代码替换掉上面的\n",
    "driver.get(url=url)\n",
    "\n",
    "## 允许完上面代码后请确认登陆了再运行下面程序\n",
    "## 可以利用time.sleep 给自己x秒内登陆完成后再自动执行下面程序\n",
    "    "
   ]
  },
  {
   "cell_type": "code",
   "execution_count": 9,
   "metadata": {},
   "outputs": [],
   "source": [
    "max_n = 0\n",
    "while max_n < len(driver.page_source):\n",
    "    max_n = len(driver.page_source)\n",
    "    scroll_foot(driver)\n",
    "    time.sleep(2.5) ## 每2.5秒下拉一次刷新名单，直至刷新不到新名单位置"
   ]
  },
  {
   "cell_type": "code",
   "execution_count": 16,
   "metadata": {},
   "outputs": [],
   "source": [
    "df = save_data(driver) ## 保存本地数据\n"
   ]
  },
  {
   "cell_type": "code",
   "execution_count": null,
   "metadata": {},
   "outputs": [],
   "source": []
  },
  {
   "cell_type": "code",
   "execution_count": null,
   "metadata": {},
   "outputs": [],
   "source": []
  },
  {
   "cell_type": "code",
   "execution_count": null,
   "metadata": {},
   "outputs": [],
   "source": []
  },
  {
   "cell_type": "code",
   "execution_count": null,
   "metadata": {},
   "outputs": [],
   "source": []
  },
  {
   "cell_type": "code",
   "execution_count": null,
   "metadata": {},
   "outputs": [],
   "source": []
  },
  {
   "cell_type": "code",
   "execution_count": null,
   "metadata": {},
   "outputs": [],
   "source": []
  },
  {
   "cell_type": "code",
   "execution_count": null,
   "metadata": {},
   "outputs": [],
   "source": []
  },
  {
   "cell_type": "code",
   "execution_count": null,
   "metadata": {},
   "outputs": [],
   "source": []
  },
  {
   "cell_type": "code",
   "execution_count": null,
   "metadata": {},
   "outputs": [],
   "source": []
  },
  {
   "cell_type": "code",
   "execution_count": null,
   "metadata": {},
   "outputs": [],
   "source": []
  },
  {
   "cell_type": "code",
   "execution_count": null,
   "metadata": {},
   "outputs": [],
   "source": []
  },
  {
   "cell_type": "code",
   "execution_count": null,
   "metadata": {},
   "outputs": [],
   "source": []
  },
  {
   "cell_type": "code",
   "execution_count": null,
   "metadata": {},
   "outputs": [],
   "source": []
  },
  {
   "cell_type": "code",
   "execution_count": null,
   "metadata": {},
   "outputs": [],
   "source": []
  },
  {
   "cell_type": "code",
   "execution_count": null,
   "metadata": {},
   "outputs": [],
   "source": []
  },
  {
   "cell_type": "code",
   "execution_count": 14,
   "metadata": {},
   "outputs": [],
   "source": [
    "    driver.quit()                   # 关闭浏览器\n"
   ]
  },
  {
   "cell_type": "code",
   "execution_count": null,
   "metadata": {},
   "outputs": [],
   "source": []
  }
 ],
 "metadata": {
  "kernelspec": {
   "display_name": "Python 3",
   "language": "python",
   "name": "python3"
  },
  "language_info": {
   "codemirror_mode": {
    "name": "ipython",
    "version": 3
   },
   "file_extension": ".py",
   "mimetype": "text/x-python",
   "name": "python",
   "nbconvert_exporter": "python",
   "pygments_lexer": "ipython3",
   "version": "3.6.4"
  }
 },
 "nbformat": 4,
 "nbformat_minor": 2
}
